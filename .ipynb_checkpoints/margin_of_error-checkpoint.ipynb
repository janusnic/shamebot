{
 "cells": [
  {
   "cell_type": "code",
   "execution_count": 22,
   "metadata": {
    "collapsed": true
   },
   "outputs": [],
   "source": [
    "import numpy as np"
   ]
  },
  {
   "cell_type": "code",
   "execution_count": 23,
   "metadata": {
    "collapsed": false
   },
   "outputs": [],
   "source": [
    "def moe_binomial(p, n, confidence):\n",
    "    \"\"\" Calculate marigin of error \n",
    "        for a binomial distribution \"\"\"\n",
    "    \n",
    "    if confidence == 0.95:\n",
    "        Z = 1.96 \n",
    "    elif confidence == 0.99:\n",
    "        Z = 2.57\n",
    "    elif confidence == 0.9973:\n",
    "        Z = 3\n",
    "    else:\n",
    "        return None\n",
    "    \n",
    "    return Z*np.sqrt((p*(1-p))/n)\n",
    "\n",
    "def moe(sample, confidence):\n",
    "    \"\"\" Calculate marigin of error \n",
    "        for a binomial distribution \"\"\"\n",
    "    \n",
    "    if confidence == 0.95:\n",
    "        Z = 1.96 \n",
    "    elif confidence == 0.99:\n",
    "        Z = 2.57\n",
    "    elif confidence == 0.9973:\n",
    "        Z = 3\n",
    "    else:\n",
    "        return None\n",
    "    \n",
    "    std = np.std(sample)\n",
    "    n = len(sample)\n",
    "    \n",
    "    return Z*std/np.sqrt(n)"
   ]
  },
  {
   "cell_type": "code",
   "execution_count": 24,
   "metadata": {
    "collapsed": false
   },
   "outputs": [
    {
     "name": "stdout",
     "output_type": "stream",
     "text": [
      "0.32 ± 0.014151129188\n"
     ]
    }
   ],
   "source": [
    "p = 0.32\n",
    "n = 7177\n",
    "CI = moe_binomial(p=p, n=n, confidence=0.99)\n",
    "print \"{} ± {}\".format(p, CI)"
   ]
  },
  {
   "cell_type": "code",
   "execution_count": 29,
   "metadata": {
    "collapsed": false
   },
   "outputs": [
    {
     "name": "stdout",
     "output_type": "stream",
     "text": [
      "42.4166666667 ± 2.38330516689\n"
     ]
    }
   ],
   "source": [
    "sample=[41, 42, 45, 53, 39, 49, 39, 40, 40, 40, 40, 41]\n",
    "print \"{} ± {}\".format(np.mean(sample), moe(sample=sample, confidence=0.95))"
   ]
  },
  {
   "cell_type": "code",
   "execution_count": null,
   "metadata": {
    "collapsed": true
   },
   "outputs": [],
   "source": []
  }
 ],
 "metadata": {
  "kernelspec": {
   "display_name": "Python 2",
   "language": "python",
   "name": "python2"
  },
  "language_info": {
   "codemirror_mode": {
    "name": "ipython",
    "version": 2
   },
   "file_extension": ".py",
   "mimetype": "text/x-python",
   "name": "python",
   "nbconvert_exporter": "python",
   "pygments_lexer": "ipython2",
   "version": "2.7.9"
  }
 },
 "nbformat": 4,
 "nbformat_minor": 0
}
