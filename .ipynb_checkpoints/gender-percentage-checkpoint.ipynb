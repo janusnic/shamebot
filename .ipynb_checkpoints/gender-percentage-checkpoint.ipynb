{
 "cells": [
  {
   "cell_type": "code",
   "execution_count": 1,
   "metadata": {
    "collapsed": false
   },
   "outputs": [],
   "source": [
    "import pandas as pd\n",
    "from bs4 import BeautifulSoup, SoupStrainer\n",
    "import requests\n",
    "import re"
   ]
  },
  {
   "cell_type": "code",
   "execution_count": null,
   "metadata": {
    "collapsed": false
   },
   "outputs": [],
   "source": [
    "class NameStats():\n",
    "    def __init__(self, menfile='sverige-maen.txt', womenfile='sverige-kvinnor.txt'):\n",
    "        \n",
    "        men = pd.read_csv(menfile, sep='\\t', header=None)\n",
    "        men.columns = ['gender', 'x', 'y', 'z', 'men', 'name']\n",
    "        men = men[['name', 'men']]\n",
    "\n",
    "        women = pd.read_csv(womenfile, sep='\\t', header=None)\n",
    "        women.columns = ['gender', 'x', 'y', 'z', 'women', 'name']\n",
    "        women = women[['name', 'women']]\n",
    "\n",
    "        df = pd.concat([women, men])        \n",
    "        df[\"name\"] = df[\"name\"].map(lambda x: x \n",
    "                                    if type(x) != str \n",
    "                                    else x.lower())\n",
    "        df = df.groupby(['name'], as_index=True).sum()\n",
    "        df = df.fillna(0)\n",
    "        self.data = df\n",
    "        \n",
    "    def gender(self, name, confidence=0.95):\n",
    "        \"\"\" Return gender and confidence \"\"\"\n",
    "        try:\n",
    "            name = name.lower()\n",
    "            n_men = self.data.loc[name]['men']\n",
    "            n_women = self.data.loc[name]['women']\n",
    "\n",
    "            p_men = n_men/(n_men + n_women) \n",
    "            p_women = n_women/(n_men + n_women) \n",
    "\n",
    "            if p_men > confidence:\n",
    "                return \"man\", p_men\n",
    "            elif p_women > confidence:\n",
    "                return \"woman\", p_women\n",
    "            else:\n",
    "                return None, (p_men, p_women)\n",
    "        except KeyError:\n",
    "            return None, 0"
   ]
  },
  {
   "cell_type": "code",
   "execution_count": null,
   "metadata": {
    "collapsed": false
   },
   "outputs": [
    {
     "name": "stdout",
     "output_type": "stream",
     "text": [
      "Downloading all links from: dn.se\n",
      "Found 3527 links\n",
      "Parsing link nr:  0 1 2 3 4 5 6 7 8 9 10 11 12 13 14 15 16 17 18 19 20 21 22 23 24 25 26 27 28 29 30 31 32 33 34 35 36 37 38 39 40 41 42 43 44 45 46 47 48 49 50 51 52 53 54 55 56 57 58 59 60 61 62 63 64 65 66 67 68 69 70 71 72 73 74 75 76 77 78 79 80 81 82 83 84 85 86 87 88 89 90 91 92 93 94 95 96 97 98 99 100 101 102 103 104 105 106 107 108 109 110 111 112 113 114 115 116 117 118 119 120 121 122 123 124 125 126 127 128 129 130 131 132 133 134 135 136 137 138 139 140 141 142 143 144 145 146 147 148 149 150 151 152 153 154 155 156 157 158 159 160 161 162 163 164 165 166 167 168 169 170 171 172 173 174 175 176 177 178 179 180 181 182 183 184 185 186 187 188 189 190 191 192 193 194 195 196 197 198 199 200 201 202 203 204 205 206 207 208 209 210 211 212 213 214 215 216 217 218 219 220 221 222 223 224 225 226 227 228 229 230 231 232 233 234 235 236 237 238 239 240 241 242 243 244 245 246 247 248 249 250 251 252 253 254 255 256 257 258 259 260 261 262 263 264 265 266 267 268 269 270 271 272 273 274 275 276 277 278 279 280 281 282 283 284 285 286 287 288 289 290 291 292 293 294 295 296 297 298 299 300 301 302 303 304 305 306 307 308 309 310 311 312 313 314 315 316 317 318 319 320 321 322 323 324 325 326 327 328 329 330 331 332 333 334 335 336 337 338 339 340 341 342 343 344 345 346 347 348 349 350 351 352 353 354 355 356 357 358 359 360 361 362 363 364 365 366 367 368 369 370 371 372 373 374 375 376 377 378 379 380 381 382 383 384 385 386 387 388 389 390 391 392 393 394 395 396 397 398 399 400 401 402 403 404 405 406 407 408 409 410 411 412 413 414 415 416 417 418 419 420 421 422 423 424 425 426 427 428 429 430 431 432 433 434 435 436 437 438 439 440 441 442 443 444 445 446 447 448 449 450 451 452 453 454 455 456 457 458 459 460 461 462 463 464 465 466 467 468 469 470 471 472 473 474 475 476 477 478 479 480 481 482 483 484 485 486 487 488 489 490 491 492 493 494 495 496 497 498 499 500 501 502 503 504 505 506 507 508 509 510 511 512 513 514 515 "
     ]
    }
   ],
   "source": [
    "def get_links(url, restrict_to, deeper=True):\n",
    "    r = requests.get(url)\n",
    "    soup = BeautifulSoup(r.text)\n",
    "    \n",
    "    links = set()\n",
    "    for a in soup.find_all('a', href=True):\n",
    "        try:\n",
    "            if ((a['href'][0] == \"/\" \n",
    "                 or restrict_to in a['href']) \n",
    "                and len(a['href']) > 5\n",
    "                and \"mailto:\" not in a['href']):\n",
    "\n",
    "                if a['href'][0] == \"/\":\n",
    "                    links.update([url + a['href']])\n",
    "                else:\n",
    "                    links.update([a['href']])\n",
    "        except Exception:\n",
    "            pass\n",
    "   \n",
    "    if deeper:\n",
    "        next_depth_links = set()\n",
    "        for i, link in enumerate(links):\n",
    "            next_depth_links.update(get_links(link, \n",
    "                                              restrict_to=restrict_to, \n",
    "                                              deeper=False))\n",
    "            #if i > 2:\n",
    "            #    break\n",
    "        \n",
    "        links.update(next_depth_links)\n",
    "       \n",
    "    return list(links)\n",
    "\n",
    "def parse_DN(url):\n",
    "    try:\n",
    "        r = requests.get(url)\n",
    "        soup = BeautifulSoup(r.text)\n",
    "\n",
    "        text = \"\"\n",
    "        for article in soup.find_all('article'):\n",
    "            text += article.text\n",
    "\n",
    "        return text\n",
    "    except:\n",
    "        return \"\"\n",
    "\n",
    "def get_names(text):\n",
    "    names = []\n",
    "    for name in re.findall(\"([A-Z][\\w-]*(\\s+[A-Z][\\w-]*)+)\", text):\n",
    "        names.append(name[0].split()[0])\n",
    "    return list(set(names))\n",
    "    \n",
    "def get_snapshot(url, restrict_to, parse):\n",
    "    all_names = []\n",
    "    \n",
    "    print \"Downloading all links from:\", restrict_to\n",
    "    links = get_links(url, restrict_to=restrict_to)\n",
    "    print \"Found {} links\".format(len(links))\n",
    "    print \"Parsing link nr: \",\n",
    "    for i, link in enumerate(links):\n",
    "        print i,\n",
    "        names = get_names(parse(link))\n",
    "        all_names += names\n",
    "        \n",
    "    return all_names\n",
    "\n",
    "print get_snapshot(\"http://dn.se\", \"dn.se\", parse_DN)"
   ]
  },
  {
   "cell_type": "code",
   "execution_count": 9,
   "metadata": {
    "collapsed": true
   },
   "outputs": [],
   "source": [
    "def calc_perc_women(snapshot):\n",
    "    ns = NameStats()\n",
    "    men, women = 0, 0\n",
    "    \n",
    "    for name in snapshot:\n",
    "        try:\n",
    "            if ns.gender(name)[0] == \"man\":\n",
    "                men += 1\n",
    "            elif ns.gender(name)[0] == \"woman\":\n",
    "                women += 1\n",
    "        except:\n",
    "            pass\n",
    "                \n",
    "    return float(women) / float(men + women)\n",
    "        "
   ]
  },
  {
   "cell_type": "code",
   "execution_count": 10,
   "metadata": {
    "collapsed": false
   },
   "outputs": [
    {
     "name": "stdout",
     "output_type": "stream",
     "text": [
      "0.269578313253\n"
     ]
    }
   ],
   "source": [
    "snapshot = [u'Victoria', u'Joey', u'Klara', u'Tai', u'Erica', u'Frank', u'Enligt', u'Lars', u'C', u'Emir', u'Janne', u'Roger', u'Mot', u'Emil', u'Nikola', u'Arnor', u'Daniel', u'Jonas', u'Christoffer', u'Managern', u'Nya', u'Johan', u'IFK', u'Till', u'Karl', u'Arne', u'Gustav', u'Mattias', u'Richard', u'Johnny', u'DesignBrew', u'Electric', u'Mathias', u'Wisby', u'Pumpviken', u'Three', u'Sanna', u'Dugges', u'Nils', u'Mariestads', u'Easter', u'Eriks', u'Boisset', u'Croix', u'Mont-Redon', u'La', u'Terrassen', u'TT', u'Josef', u'Sanna', u'Elegant', u'Brennfleck', u'Rocheville', u'Helderberg', u'X', u'Poliziano', u'Tanesse', u'Villa', u'Till', u'Valser', u'Thom', u'Los', u'Remo', u'Frida', u'Peter', u'Christina', u'Anette', u'Ett', u'Att', u'Los', u'American', u'Bland', u'Fannie', u'Soran', u'Niklas', u'Men', u'Mattias', u'Richard', u'The', u'Rolf', u'Andreas', u'Haukur', u'Magnus', u'Nabil', u'Anton', u'Kristian', u'Junes', u'Filip', u'Johannes', u'Tim', u'Marcus', u'Joseph', u'Henning', u'Arber', u'Otto', u'Pavel', u'Simon', u'Jonathan', u'Tibor', u'Jesper', u'Pontus', u'Viktor', u'Oscar', u'Dan', u'Stefan', u'Tobias', u'Mittbacken', u'Mario', u'Jo', u'Nils-Eric', u'Markus', u'Henrik', u'Kalmar', u'Ruben', u'Rasmus', u'Johan', u'Hakeem', u'David', u'King', u'Henok', u'Skadade', u'Emil', u'James', u'Mohammed', u'Stojan', u'Per', u'Antonio', u'Calle', u'Kerim', u'Mauricio', u'John', u'Adam', u'Martin', u'Sebastian', u'Robin', u'Yoshimar', u'Ole', u'Kenneth', u'Sam', u'Ebenezer', u'Kwame', u'Kristoffer', u'Nyasha', u'Daniel', u'Panajotis', u'Erik', u'Anders', u'Christoffer', u'Patrik', u'Enock', u'Fredrik', u'Noah', u'Kevin', u'Omar', u'Thomas', u'Mikael', u'Per', u'Margareta', u'Martin', u'Helsingborgs', u'Leif', u'Och', u'Just', u'Marcus', u'David', u'Christoffer', u'Gunnar', u'Martin', u'Dardan', u'Tomas', u'Paul', u'Beatrice', u'Samuel', u'Efter', u'Jan', u'Helena', u'IK', u'Anders', u'Sverker', u'Fredrik', u'Gustav', u'Swedish', u'Tove', u'Willy', u'Tomas', u'Stefan', u'Statsminister', u'Jonas', u'Anders', u'Folkpartisten', u'Rossana', u'Maria', u'Food', u'Och', u'Marie', u'Golden', u'Yayoi', u'Art', u'Claude', u'Benesse', u'Park', u'Tadao', u'Chichu', u'James', u'Central', u'Rebecca', u'Michael', u'Virginia', u'T', u'H', u'Henry', u'New', u'Hjalmar', u'New', u'Gellert', u'Ingrid', u'Lawen', u'Erik', u'Helen', u'Lisa', u'Katarina', u'Ingmar', u'Europa', u'Sam', u'Gudni', u'Nyasha', u'Gif', u'Omar', u'TT', u'Kevin', u'Pelle', u'Ayrton', u'Juan', u'Long', u'Ricardo', u'Nick', u'Abu', u'Grand', u'VM-serien', u'Ronnie', u'Med', u'John', u'Lee', u'Max', u'Stefan', u'Johnnie', u'Kimi', u'Jo', u'Nino', u'Marcus', u'Jenson', u'Frankrikes', u'Louis', u'Michael', u'Fernando', u'Felipe', u'Australiens', u'Luigi', u'Giuseppe', u'Sebastian', u'Tysklands', u'Peter', u'Lewis', u'Energy', u'Giancarlo', u'Lella', u'Rubens', u'Flest', u'Kinas', u'Andrej', u'Adolf', u'Vladimir', u'Putins', u'Canal', u'C', u'Wilhelm', u'Maria', u'Och', u'Restaurangens', u'La', u'Il', u'Salsa', u'Jang', u'North', u'Human', u'Kim', u'Sarah', u'Anja', u'Ramona', u'Hanna', u'Sara', u'Lisa', u'Collin', u'Jessica', u'Hanna', u'Delamotte', u'Bourgogne', u'Baron', u'Brut', u'Clotilde', u'Champagne', u'Philippe', u'Blancs', u'Palmer', u'Western', u'Galipettes', u'Prestige', u'Boschendal', u'Alta', u'Taittinger', u'U', u'Loire', u'Co', u'Alf', u'Pierre', u'Pol', u'Raventos', u'Ferrari', u'Graham', u'Antje', u'OBH', u'I', u'SVT', u'TNS', u'Sveriges', u'Liselotte', u'Jakob', u'Och', u'Andreas', u'Jeremy', u'Viktor', u'Niklas', u'Ludvig', u'Backen', u'Daniel', u'Jonas', u'Taylor', u'Rasmus', u'Och', u'Katy', u'En', u'Eric', u'Hanna', u'Lisa', u'Running', u'Urban', u'Marcus', u'Ferraris', u'Lewis', u'Svenske', u'Bahrains', u'Felipe', u'Nico', u'Bakom', u'Amnesty', u'Sebastian', u'Tyske', u'Med', u'Christian', u'Mats', u'Oscar', u'Daniel', u'Francois', u'Fredrik', u'Robin', u'Victor', u'Jens', u'Saeid', u'Rasmus', u'Samuel', u'Mats', u'Lotta', u'Eftersom', u'En', u'Jeremy', u'Richard', u'James', u'Top', u'Sky', u'Jimmy', u'Andy', u'Jeremey', u'The', u'I', u'Malin', u'Kajsa', u'Tony', u'Jeremy', u'The', u'Scotland', u'Marcus', u'Sao', u'Beat', u'Eje', u'Felipe', u'Nico', u'Lewis', u'Med', u'Janne', u'Trots', u'James', u'Men', u'Kwame', u'Lagkamraten', u'Mohammed', u'Kevin', u'Mikaela', u'HM', u'Tran', u'Nha', u'Ingvar', u'Olof', u'Song', u'I', u'Olga', u'Robert', u'Men', u'Aleksandr', u'Lyndon', u'Agneta', u'Martin', u'Ho', u'Prison', u'Indiana', u'Viet', u'Partisekreteraren', u'Aros', u'Mahna', u'Magnus', u'Eller', u'Johann', u'Sven', u'Jonas', u'Aron', u'Incan', u'Mattias', u'Johan', u'Nicklas', u'Robin', u'Samtliga', u'I', u'Annette', u'Stefan', u'Carin', u'I', u'Pescado', u'Mariscos', u'Ruibarbo', u'Danyel', u'Lubina', u'Pisco', u'Carne', u'Anticucho', u'Melker', u'Atun', u'Mez', u'DN', u'I', u'Toyota', u'Elon', u'Katsuhiko', u'Till', u'Thomas', u'Nya', u'Dieseln', u'Li', u'Monica', u'Sissela', u'Dinah', u'Filippa', u'Sanna', u'Hasse', u'Att', u'Kristin', u'Linus', u'Robin', u'Lena', u'Men', u'Star', u'Robert', u'Charles', u'Kapten', u'Ester', u'I', u'Robert', u'Stefan', u'Jonas', u'Erika', u'Stora', u'Kristoffer', u'Enligt', u'Lars', u'Om', u'Henrik', u'I', u'Niklas', u'Andres', u'Men', u'Som', u'Komikern', u'Aron', u'Flera', u'The', u'Hej', u'Sverker', u'Stefan', u'Peter', u'Fredrik', u'Omar', u'Emil', u'I', u'Ann', u'Inrikesminister', u'Lars', u'Monica', u'Jenny', u'P4', u'Johanna', u'Bengt-Olof', u'Kalmar', u'Thomas', u'Anne', u'Martin', u'Patrik', u'Roger', u'Med', u'Enligt', u'Fatih', u'Cecilie', u'Germano', u'Paola', u'Tokujin', u'Michele', u'Producenten', u'Patricia', u'Svenska', u'Kulturmagasinets', u'Barber', u'Hos', u'Nitzan', u'Sebastian', u'Ferruccio', u'Enligt', u'Stefan', u'Statsminister', u'Marijana', u'Eva-Karin', u'Josefine', u'Viktor', u'Mia', u'Anders', u'Jessica', u'Ayanda', u'Henok', u'Andreas', u'Viktige', u'Fredrik', u'Noah', u'Sonko', u'Nabil', u'Mittbacksparet', u'Daniel', u'Oscar', u'Nordin', u'Domare', u'Alexander', u'Magnus', u'Helena', u'Under', u'Tommy', u'Ebba', u'Norra', u'Emma', u'Mats', u'TT', u'Stefan', u'Statsminister', u'Karl-Petter', u'Hans', u'Jonas', u'Marja', u'Busch', u'Magdalena', u'Allianspartierna', u'Stefan', u'Fredrik', u'Mona', u'Efter', u'Jan', u'Helena', u'IK', u'Anders', u'Sverker', u'Fredrik', u'Annica', u'Ny', u'The', u'Jim', u'Grupp', u'Melker', u'Morgan', u'Andy', u'Jan', u'Stefan', u'Christian', u'Medan', u'Glenn', u'I', u'Frank', u'Cynthia', u'Ralf', u'Tg', u'Luciano', u'Ann-Margret', u'Luca', u'Martin', u'Stephen', u'Kirstin', u'John', u'La', u'Usain', u'The', u'Gabe', u'Manchester', u'Enligt', u'Marcus', u'Sven', u'Bahrains', u'Norra', u'Elitfotboll', u'C', u'Ingjald', u'Snorre', u'Johan', u'Religionshistorikern', u'Historikern', u'Therese', u'Erling', u'Charlotte', u'Drew', u'Bronx-stadsdelen', u'Adam', u'Hebrew', u'New', u'The', u'Motspelaren', u'Jimmy', u'Demba', u'Lotta', u'Haby', u'Lourel', u'Mariata', u'Melinda', u'Malicounda', u'Molly', u'Ibrahima', u'Aissata', u'I', u'Hillary', u'Fembarnsmamman', u'Dema', u'New', u'Keur', u'Organisationen', u'Londonkommunen', u'Great', u'Exemplet', u'I', u'Olle', u'Ge', u'Karin', u'Monica', u'Stefan', u'Ilse', u'Harri', u'I', u'Sara', u'Thomas', u'David', u'Orhan', u'Sveriges', u'Lunds', u'Stockholm', u'Annica', u'Gerth', u'Gano', u'Johan', u'Maria', u'DN', u'Stefan', u'Anders', u'Att', u'Ska', u'Kinberg', u'Fredrik', u'Anna', u'Men', u'Richard', u'Markus', u'Sundsvalls', u'Samuel', u'Per-Erik', u'Emil', u'Markus', u'Henrik', u'Per', u'Anders', u'Wilhelm', u'Jonas', u'Adrian', u'Vita', u'Peter', u'Linus', u'Justin', u'Britney', u'Kattarps', u'Lindsey', u'Miley', u'Fryshusets', u'Eric', u'Katrin', u'Elin', u'Elina', u'Olga', u'Pontus', u'Duane', u'Dinos', u'Christian-Pontus', u'Hans', u'Paul', u'Leif', u'Sundsvalls', u'I', u'Muhammad', u'Sugar', u'Manny', u'Floyd', u'Las', u'Ante', u'Nils', u'Jon', u'Charlotte', u'Tahar', u'Helena', u'Delphine', u'Omar', u'Liam', u'Tom', u'DN', u'Som', u'David', u'VFS', u'Kings', u'Rutinerade', u'Mikael', u'Magnus', u'I', u'Sportchef', u'Roger', u'Anders', u'Pelle', u'Federica', u'Fabrizio', u'A', u'Benke', u'David', u'Rafe', u'Hugo', u'Asa', u'Eddie', u'Jo', u'Sally', u'Degen', u'Fyllningen', u'Monteringen', u'Homer', u'Zella', u'Ett', u'Sjukhuset', u'Albert', u'St', u'Melanie', u'Gussie', u'Stefan', u'Christina', u'Bo', u'Yamin', u'John', u'Sri', u'Mohamed', u'Roger', u'Anders', u'Boeings', u'Current', u'Stocktrek', u'Love', u'Ivar', u'Eleftheria', u'Elizabeth', u'Diane', u'Michael', u'David', u'Occupy', u'Hillary', u'Zucotti', u'Time', u'New', u'The', u'Paul', u'Jon', u'Giulia', u'Scientific', u'Henrik', u'Men', u'Per', u'Arvid', u'Karin', u'Harry', u'Zakaryah', u'Leif', u'Per', u'Alexander', u'Henok', u'Andreas', u'Kennedy', u'Nanne', u'Per', u'Nisse', u'Johan', u'Sauli', u'Hammarbys', u'Love', u'Kennedy', u'Annelie', u'Mona', u'Jan', u'Studio', u'Erik', u'Dagens', u'Medan', u'Maria', u'Westminster', u'Eva-Karin', u'Natural', u'Vid', u'Tate', u'Notre', u'Professor', u'Albert', u'Covent', u'Madame', u'Barack', u'Till', u'St', u'London', u'Science', u'Usain', u'The', u'Bloody', u'Marilyn', u'Marcus', u'Felipe', u'Hans', u'Robert', u'Martin', u'Tomas', u'Beatrice', u'Sakari', u'Att', u'Konserthusets', u'Carl', u'Lennart', u'Ante', u'Nils', u'Lotta', u'Jon', u'Stefan', u'Jhonas', u'Tre', u'Anders', u'Hasse', u'Sveriges', u'Susanne', u'Anderz', u'Ed', u'Joel', u'Nick', u'Brad', u'Liam', u'Genesis', u'Caroline', u'Expressen', u'Att', u'Liv', u'Jan', u'Till', u'Malin', u'Carita', u'Serietecknaren', u'Lisa', u'Marie', u'Ringskog', u'Johan', u'Erik', u'AIK', u'Som', u'Per', u'Att', u'Freddie', u'New', u'Mae', u'Marilyn', u'Richard', u'Meryl', u'Patricia', u'Mark', u'Pawel', u'John', u'Lonely', u'Glom', u'ZWE2Yb_jMZgDavid', u'James', u'Will', u'Idina', u'Malik', u'Robin', u'Anita', u'Mat', u'Mickey', u'Neil', u'Joan', u'Alejandro', u'Eddie', u'Adele', u'Sean', u'Graham', u'Oskar', u'Ingrid', u'Selma', u'Sveriges', u'Steven', u'Sankte', u'Jarkko', u'Putins', u'Suss', u'Vladimir', u'Alexander', u'Helena', u'Domain', u'Te', u'Central', u'Alf', u'Gulfi', u'Cantina', u'Pierre', u'Domaine', u'Fakra', u'Kinmon', u'Denis', u'Montirius', u'Mathias', u'Dragets', u'Kfardebian', u'Brasserie', u'Nya', u'Evil', u'Thomas', u'Efter', u'Tomas', u'SvD', u'Beatrice', u'Margot', u'Per', u'Leif', u'Sundsvalls', u'Henrik', u'Christer', u'Tommy', u'Helsingborgs', u'Magnus', u'Tack', u'Maria', u'Tomas', u'Men', u'I', u'Ibrahim', u'Efter', u'Japan', u'Lars', u'The', u'Francis', u'Lucian', u'Henrik', u'Elisabeth', u'P4', u'GMO-fritt', u'Och', u'SVT', u'Catrin', u'Iris', u'AB', u'Christer', u'Majvi', u'Anders', u'Pezhman', u'Margot', u'Benjamin', u'Mike', u'North', u'Jerry', u'Five', u'New', u'Billboard', u'Ben', u'The', u'John', u'Spyder', u'Porcupine', u'The', u'Debaser', u'Harmony', u'Steven', u'Gustav', u'Mattias', u'Just', u'Auckland', u'Jennifer', u'Kent', u'Anders', u'Hasse', u'ObligationsfonderFondreporter', u'Aktiespararna', u'Avanza', u'Harry', u'Roine', u'Jakub', u'Oliver', u'Mattias', u'VM-debutanten', u'Tre', u'Joakim', u'Simon', u'SKA', u'Elias', u'Jacob', u'Staffan', u'Jhonas', u'O2', u'Victor', u'Stefan', u'Men', u'Bodil', u'Sanna', u'TV4', u'Elin', u'Mimmi', u'Lisa', u'Och', u'Peter', u'Mattias', u'Emmanuel', u'Pa', u'HIF-managern', u'Helsingborgs', u'Johan', u'Pertti', u'Stig', u'Giannis', u'Brian', u'Daniel', u'Vaclav', u'John', u'Guy', u'Bianca', u'Electro', u'Star', u'Il', u'Molly', u'Eduard', u'Elina', u'Bojana', u'The', u'Burt', u'Melanie', u'Monika', u'Junior', u'Maria', u'Alex', u'Leonor', u'Die', u'David', u'Nina', u'Vaidas', u'Marta', u'Lisa', u'Kurt', u'Robin', u'Anita', u'Thomas', u'Peter', u'San', u'Johnny', u'Polina', u'Kjetil', u'Michele', u'Sleepy', u'Elhaida', u'Debrah', u'Tobias', u'Anti', u'Eurovision', u'Trijntje', u'Tony', u'Nadav', u'Lionel', u'Ann', u'Hof', u'Le', u'Fentimans', u'Ingrid', u'In', u'Alf', u'Tapiz', u'Mikkeller', u'Fred', u'Fontanafredda', u'Les', u'Villard', u'Santa', u'Menger-Krug', u'Lixa', u'Keltic', u'The', u'Vecchioflorio', u'Kungliga', u'Jesper', u'Toast', u'Monica', u'Gustav', u'Men', u'Carl', u'Clas', u'Tuomas', u'Tomi', u'Robert', u'Jeff', u'Kirill', u'Jani', u'Ola', u'Costa', u'CBS', u'Diane', u'Brian', u'Kermit', u'Kermina', u'Som', u'Per', u'Damallsvenska', u'Anders', u'Maria', u'Sedan', u'Dirk', u'Men', u'Kay', u'Pezhman', u'Margot', u'SVT', u'Henrik', u'Anna', u'Kinberg', u'Fatimata', u'Adana', u'Adama', u'Fredrik', u'Anders', u'Liljevalchs', u'Konsthallschefen', u'Gert', u'AMF', u'Thomas', u'Roar', u'Henrik', u'Gamla', u'Sebastian', u'IFK', u'Annelie', u'Men', u'Ellco', u'Enligt', u'Elias', u'IF', u'I', u'Stefan', u'Ingvar', u'David', u'Anja', u'Olaf', u'Lotta', u'Stefen', u'Till', u'Marion', u'Dirk', u'TV4', u'FC', u'Mikael', u'Systrarna', u'Emma', u'Teatro', u'Johan', u'Jenny', u'Stefan', u'Statsminister', u'Anders', u'Jonas', u'LO-basen', u'Peter', u'ISK', u'Pia', u'Men', u'Ett', u'Enligt', u'Sarah', u'Lucio', u'Mustafa', u'Mademoiselle', u'Men', u'Lara', u'Anders', u'Slava', u'The', u'Gabe', u'Malcolm', u'DN', u'I', u'Mehmet', u'The', u'Flow', u'Aircraft', u'Feministiskt', u'Stefan', u'Lilla', u'Georges', u'Jennifer', u'Nick', u'Claire', u'Gary', u'Gothenburg', u'Jeep', u'Solna', u'Men', u'Cross', u'Marcus', u'Algemeen', u'Eje', u'Marcel', u'Felipe', u'Adrian', u'Bernie', u'Niklas', u'Evert', u'Sven-Bertil', u'Miriam', u'Mare', u'Wiman', u'Igiaba', u'Enrico', u'Siad', u'Manchester', u'New', u'Empire', u'Walter', u'Kalmars', u'Ywonne', u'Camp', u'Tobaksfri', u'Ronan', u'Kristoffer', u'Gudrun', u'Julie', u'Mellan', u'Sedan', u'Feministiskt', u'Susanna', u'Maria', u'Henok', u'Andreas', u'Haukur', u'Sam', u'Sonko', u'Nabil', u'Men', u'Inhopparen', u'Mittbacken', u'Eidur', u'Daniel', u'Panajotis', u'Oscar', u'Johan', u'Ebenezer', u'Mats', u'The', u'Carl', u'Imperial', u'Stefan', u'Karl-Petter', u'Svenske', u'Ben', u'Teuvo', u'Tampa', u'Maria', u'Lena', u'Ingela', u'Alla', u'Henri', u'Ylva', u'Andrea', u'Sonja', u'In-car', u'Lars', u'Bo', u'Mats', u'Marianne', u'Anders', u'L', u'Ossian', u'Jan', u'Boel', u'Mikael', u'Dagens', u'Stuart', u'Handelsbankens', u'Falangen', u'Sverker', u'Fredrik', u'Tom', u'Buckingham', u'St', u'David', u'Prins', u'I', u'Erik', u'Andreas', u'Temel', u'Deutsche', u'Turkish', u'Because', u'Lead', u'Hustrun', u'Brett', u'Frances', u'Gus', u'Nick', u'Courtney', u'Kurt', u'Guns', u'Eurovision', u'Efter', u'Jan', u'Helena', u'IK', u'Anders', u'Sverker', u'Fredrik', u'Kerstin', u'I', u'Birgitta', u'Liv', u'Kristina', u'Caroline', u'Lewis', u'Shanghai', u'Kinas', u'Liu', u'Mario', u'Peter', u'Niklas', u'Ulf', u'Badgers', u'Turbo', u'Porsche', u'Cayenne', u'Volvo', u'GTS', u'BMW', u'Kalle', u'Nya', u'Audi', u'Sir', u'Rex', u'Le', u'Pojken', u'Mark', u'Familjen', u'Liberaldemokraten', u'Jane', u'John', u'Arturs', u'Buckingham', u'Kazuo', u'Monthy', u'I', u'Tony', u'Adam', u'Henry', u'Thomas', u'En', u'Katrine', u'Storbritannien', u'Rupert', u'Glenn', u'Little', u'Peter', u'Sofie', u'Bernardo', u'La', u'Karolina', u'Federico', u'Tomas', u'Billy', u'Rikard', u'Erik', u'Martin', u'New', u'Giuseppe', u'Jonathan', u'Nino', u'Mats', u'Oskar', u'Lena', u'Folkets', u'Nordisk', u'Och', u'I', u'Men', u'Stockholmsbaserade', u'Svenskarnas', u'Svenska', u'Nordiska', u'Alternativ', u'Marcus', u'Lewis', u'Sergio', u'Pastor', u'Bahrains', u'Jackie', u'Felipe', u'Kimi', u'Nico', u'Romain', u'Sebastian', u'I', u'Costa', u'Dan', u'Expedition', u'Anders', u'Enligt', u'Stefan', u'Jonas', u'Anders', u'Eva', u'Stefan', u'S-ledaren', u'Annie', u'Kinberg', u'M-ledaren', u'Fredrik', u'Anna', u'Mercedes', u'Hans', u'SHL-nykomlingen', u'Tomi', u'Bara', u'Petronella', u'Sofia', u'Sverige', u'Men', u'Lars', u'IVL', u'Paul', u'I', u'Christer', u'Enligt', u'Henrik', u'P4', u'Mikael', u'Svenskarna', u'Dundee', u'Marcus', u'Valtteri', u'Lewis', u'Fernando', u'Bahrains', u'Felipe', u'Kimi', u'Nico', u'Bakom', u'Sebastian', u'McLarens', u'Caroline', u'Lotta', u'Sofia', u'Mark', u'Karin', u'Marie', u'Fredrik', u'Jenny', u'Jens', u'Fredrik', u'Emil', u'Matthias', u'Pharrell', u'Marianne', u'Mathias', u'Marvin', u'Percy', u'Till', u'New', u'Robin', u'GW', u'Gubb', u'Thomas', u'Fallet', u'Hannes', u'I', u'Birgitta', u'Dan', u'Sture', u'Att', u'Seppo', u'Paolo', u'Bruce', u'SVT', u'Diane', u'Jimmie', u'Gustav', u'Simon', u'Mattias', u'Joakim', u'Anton', u'Joel', u'Tre', u'Filip', u'Loui', u'Elias', u'Var', u'Oscar', u'Jacob', u'Johan', u'O2', u'Victor', u'Tomas', u'Alice', u'Douglas', u'Paul', u'Raini', u'Adam', u'Kevin', u'Las', u'Ji', u'Yves', u'Lars-Inge', u'Anders', u'DET', u'Theodor', u'Eva', u'Paul', u'Pontus', u'Stefan', u'Enligt', u'Johan', u'Astra', u'Magdalena', u'Choklad', u'I', u'Taverna', u'Svenska', u'Tommy', u'Jonas', u'Jean', u'Meryl', u'Richard', u'Patricia', u'Jennifer', u'Laura', u'Alejandro', u'Edward', u'Haisan', u'Men', u'Marcus', u'Lewis', u'Nico', u'Grand', u'Enligt', u'Leif', u'Men', u'Per', u'Margareta', u'Efter', u'Jan', u'Helena', u'IK', u'Anders', u'Sverker', u'Fredrik', u'Poppels', u'Reinetter', u'Yalumba', u'Domaine', u'Barolo', u'Sanna', u'Diebolt-Vallois', u'Borgogno', u'Chromy', u'Via', u'Stiegl', u'Ducato', u'Terra', u'South', u'Robert', u'Henrik', u'Ulf', u'Elisabeth', u'P4', u'Fantastic', u'Josh', u'Chaplin', u'Butch', u'Barbra', u'Clint', u'Sidney', u'Filminstitutet', u'Charlie', u'Robert', u'Sundance', u'Martin', u'Mitt', u'SCR', u'VLA', u'Journalisten', u'Roger', u'Att', u'Elfriede', u'Adolf', u'Richard', u'Min', u'Wes', u'Joseph', u'Pushkin', u'Grand', u'New', u'Walter', u'Hynek', u'Diktarfursten', u'Stefan', u'Albert', u'Downtown', u'Marie', u'Maria', u'Carl-Johan', u'Don', u'Hanna', u'I', u'Monte', u'Theodor', u'Kurt', u'Jan', u'Thomas', u'Svenska', u'Filmkritikern', u'Sigmund', u'George', u'Karl', u'Zweigs', u'Hockeyforwarden', u'Backen', u'Los', u'YAY', u'Cassandra', u'Mittbacken', u'Gaelle', u'Sayan', u'Finansminister', u'Men', u'Stefan', u'Att', u'Hur', u'LO-basen', u'Magdalena', u'Johan', u'Ishockeyforwarden', u'Richard', u'I', u'Enligt', u'Gary', u'Bland', u'Fredrik', u'HBO-chefen', u'Anders', u'I', u'PEN', u'Jennifer', u'Lyckeby', u'Andreas', u'Fredrik', u'Magnus', u'Rickard', u'Terry', u'Judith', u'Bredvid', u'St', u'Kent', u'Freddie', u'New', u'Mae', u'Marilyn', u'Richard', u'Och', u'Matt', u'Steven', u'Los', u'Joseph', u'Kouhouesso', u'Lisa', u'Marie', u'Henrik', u'Sven', u'Nova', u'Antoine', u'Att', u'Oya', u'Pink', u'Angelo', u'Twin', u'Jan', u'Greve', u'Av', u'The', u'Rudolf', u'Annika', u'KPA', u'Andrej', u'I', u'Ryska', u'Adolf', u'Putins', u'Tomas', u'Om', u'Marie', u'I', u'Stefan', u'Tommy', u'Erik', u'Carl', u'V-ledaren', u'Anna', u'Jimmie', u'Tre', u'Joakim', u'SKA', u'Saint', u'Tony', u'Ronald', u'Om', u'Georgia', u'Japanamerikanen', u'Richard', u'Upper', u'Robert', u'Marcel', u'Chuck', u'Madison', u'Jackie', u'Early', u'Edward', u'Andy', u'Donna', u'Renzo', u'New', u'The', u'Carmen', u'Spencer', u'Jasper', u'I', u'Dagens', u'Hockeyallsvenska', u'Kent', u'Alexander', u'New', u'Om', u'Marie', u'Kem', u'Nem', u'Bo', u'Mi', u'Banh', u'Gao', u'Chuoi', u'Bun', u'Martin', u'Bahn', u'Pekka', u'Matt', u'Patrick', u'Dan', u'Steve', u'Nick', u'Jyrki', u'Stanley', u'Corin', u'Debaser', u'Purity', u'Megan', u'I', u'Mattias', u'Greger', u'Peter', u'Ulf', u'Shinzo', u'I', u'Norra', u'Erik', u'Johan', u'Motorsport', u'Tysklands', u'Georg', u'Fredrik', u'Stephan', u'Qualys', u'Geraldine', u'Maj', u'I', u'Fridolina', u'Roffe', u'Klara', u'Eller', u'Robert', u'Hugo', u'LENA', u'Cato', u'Namnet', u'MARTINA', u'Namnen', u'TOVE', u'OLA', u'BEATE', u'Oscar', u'Albert', u'Virginia', u'Jonas', u'Ronny', u'Gregers', u'KAROLINA', u'Litteraturkritikern', u'Eva', u'Martina', u'Henry', u'HANS', u'Med', u'Jean', u'DORIS', u'Jenny', u'Som', u'Kristofer', u'Ulf', u'Elisabeth', u'Anders', u'Eva', u'Jarkko', u'Putins', u'Suss', u'Vladimir', u'Alexander', u'The', u'Florida', u'Key', u'Doctors', u'I', u'Food', u'Bombad', u'Franskdoftande', u'Men', u'Vassa', u'Kristofer', u'New', u'Christian', u'Baked', u'Stefan', u'Jonas', u'Viktor', u'David', u'Elfsborgsyttern', u'Arber', u'Anders', u'Kalmar', u'Mot', u'Julius', u'SM-guldvinnaren', u'C', u'Per', u'Att', u'Elsa', u'Pierre', u'Alexander', u'Jakub', u'Oliver', u'Staffan', u'VM-debut', u'Tomas', u'Oscar', u'Joel', u'Tre', u'Jaromir', u'Joakim', u'Elias', u'Jacob', u'Mattias', u'Jhonas', u'O2', u'Victor', u'Fannie', u'Om', u'Gabriel', u'Stefan', u'Julia', u'Daniel', u'Erik', u'P-O', u'Magdalena', u'Jakob', u'Simon', u'Petronella', u'Sandebergs', u'Peter', u'Sven', u'Gunilla', u'Claire', u'Christopher', u'Gerhard', u'David', u'Mark', u'Henrik', u'Elisabeth', u'Ewa', u'Eon', u'Sundsvalls', u'Nicolas', u'Hollywood-exporten', u'Caroline', u'Stockholmaren', u'Carina', u'Dan', u'Michael', u'Tom', u'Kurt', u'John', u'Lady', u'Nash', u'Alexander', u'Vladimir', u'I', u'Henrik', u'Enligt', u'Roger', u'Martin', u'Sedan', u'Patrick', u'Daniel', u'Sarah', u'Marcus', u'Anja', u'Ramona', u'Sara', u'FC', u'GW', u'Gubb', u'Thomas', u'Fallet', u'Hannes', u'I', u'Birgitta', u'Dan', u'Sture', u'Att', u'Seppo', u'M-ledaren', u'DN', u'V-ledaren', u'Tomas', u'Beatrice', u'Nicolas', u'Nationella', u'Le', u'Jean-Marie', u'Stop', u'Heil', u'Francois', u'Marine', u'Innan', u'Moderatledaren', u'I', u'Men', u'Anders', u'Fredrik', u'Anna', u'I', u'Eva', u'Malin', u'Havets', u'Tove', u'AP7', u'Parken', u'Torun', u'Lennart', u'Hjorthagens', u'Traditionellt', u'Vid', u'Merit', u'Folkpartiets', u'Kerstin', u'Centerpartiets', u'Per', u'Till', u'UN', u'New', u'Margot', u'Marcus', u'Felipe', u'Spaniens', u'Fernando', u'Malaysias', u'Kimi', u'Olivia', u'Nico', u'VM-ledande', u'Trots', u'Sebastian', u'Red', u'Kuala', u'Micael', u'Daniel', u'Auschwitz', u'DN', u'Anna-Karin', u'Sofie', u'Doris', u'Cumba', u'GW', u'Gubb', u'Thomas', u'Fallet', u'Hannes', u'I', u'Birgitta', u'Dan', u'Sture', u'Att', u'Seppo', u'I', u'Hans', u'Fredrik', u'Erik', u'Doktoranden', u'Lisa', u'Hanna', u'June', u'TV4', u'Rickard', u'Faraydon', u'Upplands', u'Andreas', u'Bedros', u'I', u'Catrin', u'Mekonomen', u'Anton', u'Verkstadschefen', u'Statsminister', u'Stina', u'Katrin', u'Anja', u'Lina', u'Ramona', u'Maya', u'Lars', u'Fabrizio', u'Geraldine', u'Maj', u'Morgan', u'Svensk', u'Volkswagen', u'Porsche', u'Cayenne', u'Anders', u'Johan', u'Under', u'Advokat', u'Kommer', u'Roger', u'Erik', u'Anders', u'Peter', u'Commandant', u'Ulrika', u'Ida', u'Lars', u'Gudrun', u'Adjunkt', u'Eva', u'Kakan', u'Maja', u'Erik', u'Soran', u'Anna', u'The', u'Niklas', u'TV4', u'C', u'Simon', u'Patrik', u'AP7', u'Bengt', u'Matriket', u'James', u'Elvis', u'Olaus', u'Jack', u'Humphrey', u'Efter', u'Raffaele', u'Marcus', u'Hong', u'Trots', u'Adderly', u'Malaysias', u'Kuala', u'Felipe', u'Ho-Pin', u'Pekka', u'Mike', u'Nathan', u'Jason', u'Sidney', u'Dan', u'Som', u'Matt', u'Helsingforslaget', u'Steve', u'Att', u'Stanley', u'Oskars', u'Albin', u'Xi', u'Per-Henrik', u'Gustav', u'Niklas', u'Max', u'Julia', u'Intrum', u'Adam', u'Ida', u'Maria', u'Att', u'De', u'Pang', u'C', u'Stefan', u'Kennedy', u'Bajens', u'Nanne', u'Men', u'Kenndey', u'Gif', u'Eidur', u'Lagkaptenen', u'Patrik', u'Ahmed', u'Danjel', u'Brysselbaserade', u'Troy', u'Tom', u'Daniel', u'Noomi', u'Oles', u'Leo', u'Daniel', u'DN', u'Carl', u'Som', u'Catherine', u'Pierre', u'Gustave', u'Audrey', u'Roman', u'Guillaume', u'Och', u'Kuala', u'I', u'Lewis', u'Rickard', u'Kimi', u'Daniel', u'Nico', u'Rosberg', u'VM-ledande', u'Sebastian', u'Kinas', u'Jesper', u'Emil', u'GIF', u'Roger', u'Johan', u'IFK', u'Ann-Kristin', u'David', u'Kairos', u'Men', u'Manpower', u'Enligt', u'Enligt', u'Biodrivmedel', u'Men', u'Ulf', u'Svenska', u'Schweizaren', u'Marcus', u'Men', u'Pat', u'I', u'Robert', u'Charles', u'Meshell', u'Filip', u'Stevie', u'Toots', u'John', u'Cassandra', u'Agneta', u'Via', u'La', u'Pure', u'Central', u'Nya', u'Minuty', u'Mulderbosch', u'Josetta', u'Alain', u'Les', u'Couly-Dutheil', u'Provence', u'Calvet', u'Winzerverein', u'Age', u'Roger', u'Couly', u'Chateau', u'Domaines', u'Domain', u'Alf', u'Foncalieu', u'Coastal', u'Paris', u'Caroline', u'Champions', u'Jimmy', u'Jeremy', u'Richard', u'Julie', u'The', u'George', u'Eric', u'Mamelodi', u'Nyasha', u'Per', u'Haris', u'Jo', u'Daniel', u'Hakeem', u'Hans', u'Kevin', u'Stefan', u'IFK', u'Human', u'Brad', u'Dan', u'Richard', u'Jeff', u'Jo', u'Magnus', u'Kwame', u'Stojan', u'Robin', u'Jules', u'Pawel', u'Joseph', u'Swedbank', u'Sarah', u'Mikael', u'Nadja', u'Dragos', u'Paul', u'Alexander', u'Andreas', u'Jenny', u'Niklas', u'Helen', u'Gitarristen', u'Malin', u'Harry', u'The', u'Henrik', u'Daniel', u'Johan', u'Fredrik', u'Redhawks', u'Alexander', u'I', u'Kock-EM', u'Tommy', u'Jonas', u'Tore', u'Johan', u'Jessica', u'Bert', u'Stuart', u'Men', u'Mats', u'Marianne', u'Ledamoten', u'Skulle', u'Tom', u'Ossian', u'Svenska', u'Jan', u'Niklas', u'Att', u'Handelsbankens', u'Stockholm', u'Anders', u'Sandberg', u'Med', u'Sverker', u'Fredrik', u'Boel', u'Christian', u'Dietrich', u'Lewis', u'Albert', u'Efter', u'Helmut', u'Nico', u'Sebastian', u'Red', u'Bernie', u'Christina', u'I', u'Stellan', u'Gustaf', u'My', u'Pezhman', u'Margot', u'Stefan', u'Carl', u'British', u'Tore', u'Valrhona', u'Gustav', u'Oscar', u'Stefano', u'Werner', u'James', u'Jacques', u'Elon', u'Amerikanska', u'Enligt', u'Jesper', u'Sverker', u'Som', u'Historikern', u'Robert', u'Henrik', u'Elisabeth', u'Brekeriet', u'Mikael', u'Christian', u'Alf', u'Niklas', u'Stockholm', u'New', u'Johanna', u'Sushi', u'Akki', u'Carl', u'Freddie', u'New', u'Mae', u'Marilyn', u'Richard', u'Men', u'Louise', u'Anders', u'Andes', u'Boel', u'Stuart', u'Sverker', u'Fredrik', u'Katarina', u'Kamlar', u'Joshua', u'James', u'Wynton', u'Django', u'DN', u'Med', u'Enligt', u'Stefan', u'Ulf', u'Men', u'Simon', u'Janne', u'Rawez', u'Peter', u'U21-landslagsmannen', u'Martin', u'Emir', u'Alexander', u'Maken', u'I', u'Linnea', u'Som', u'Efter', u'Sonen', u'Svenne', u'Niklas', u'Kjell', u'Kjelle', u'Till', u'Sif', u'Dagens', u'Hans', u'Bengt', u'Ulla', u'Ingmar', u'Polisforskaren', u'Towe', u'Rolf', u'Enligt', u'Stefan', u'Champions', u'Jeremy', u'Richard', u'James', u'Top', u'Chris', u'Tony', u'The', u'Le', u'Janne', u'Sam', u'I', u'Jan', u'Ibrahim', u'Per', u'Efter', u'Handelsbanken', u'Jens', u'Enligt', u'Mattias', u'Galt', u'All', u'Francis', u'Tidningen', u'DN-kritikern', u'Peter', u'Royal', u'FNL-medlemmen', u'Creedence', u'Huvudrollsinnehavaren', u'Dagens', u'Kristian', u'Stanley', u'John', u'Musik', u'Maria', u'Owe', u'AP7', u'Gunilla', u'Statliga', u'Hulken', u'Hej', u'Maria', u'Cecilia', u'Friedrich', u'Likt', u'Carl', u'Harald', u'Fredrik', u'Upplands', u'Erik', u'DN', u'Jessica', u'Kent', u'Riksdagens', u'Pezhman', u'Margot', u'Peter', u'Edward', u'Ulrika', u'Freddie', u'Michael', u'Walter', u'Norrlands', u'Men', u'Domaine', u'Cascina', u'Sanna', u'Niklas', u'Carlsberg', u'Wine', u'Enligt', u'Stefan', u'Mattias', u'Paolo', u'Ditta', u'Vittorio', u'Georges', u'Ponte', u'Louis', u'Fondazione', u'Roberto', u'Simone', u'Il', u'Renzo', u'Santo', u'Analysverktyget', u'Uppsala', u'I', u'KristianstadNorretullskolan', u'FriskolaRonneby', u'Kramfors', u'DegerforsStora', u'SkogstorpskolanFalun', u'VallaskolanStockholm', u'Hallstahammar', u'Och', u'Hennes', u'Arnold', u'David', u'Riddar', u'Evan', u'Anders', u'Katarina', u'William', u'I', u'Gustav', u'SD', u'Gustav', u'Niklas', u'Varken', u'Tre', u'Tommy', u'Forwarden', u'Joakim', u'Jonathan', u'Tampa', u'Maria', u'Min', u'Mini', u'Jens', u'Adam', u'Peter', u'Rebecca', u'Alexander', u'Wanja', u'Gustav', u'Tytte', u'Olof', u'PR-firman', u'Stina', u'Stefan', u'Tommy', u'Daniel', u'Dennis', u'Uppsala', u'Robin', u'Fria', u'Aksel', u'Terry', u'Judith', u'Bredvid', u'St', u'Annelie', u'Debaser', u'Stockholm', u'I', u'Ebba', u'Busch', u'Julian', u'Edward', u'Chelsea', u'Davide', u'Die', u'Matriket', u'James', u'Elvis', u'Olaus', u'Jack', u'Humphrey', u'Efter', u'I', u'Till', u'Jonas', u'Nordiska', u'Human', u'Brad', u'Thomas', u'Hanna', u'Pia', u'Dahlkvists', u'Lisa', u'Carola', u'Karlslunds', u'Champions', u'Adolfsbergs', u'Vladi', u'Bahaddin', u'I', u'James', u'Sema', u'Hrant', u'Amira', u'Surp', u'Garabet', u'Cele', u'Anna', u'Faik', u'Rio', u'Rebecca', u'Manchester', u'Queens', u'Gabriel', u'Pierre', u'Hammarby', u'Men', u'Kenneth', u'Tele2', u'Ole', u'Enligt', u'Mattias', u'TNS', u'I', u'Om', u'Stefan', u'Stefan', u'IFK', u'Djeiran', u'Christel', u'Vad', u'Enligt', u'Jeremy', u'BBC-chefen', u'Lena', u'Ingvar', u'I', u'Rolf', u'Marika', u'Ivan', u'John', u'Lia', u'Skytteholms', u'Mattias', u'San', u'Noah', u'Backarna', u'I', u'Oscar', u'Vida', u'Viktor', u'Niclas', u'Tim', u'Axel', u'Hans', u'Melker', u'Ta', u'Marcus', u'Henri', u'David', u'Tim', u'Andrea', u'Maria', u'Om', u'Sidney', u'Pittsburgh', u'Patric', u'Rick', u'Stanley', u'Hart', u'Eva', u'Sara', u'Ylva', u'Saint', u'Gustave', u'Om', u'Wilhelm', u'Cecilia', u'Marc', u'Hannu', u'Carl', u'Finska', u'Kurt', u'Sadie', u'I', u'Stefan', u'Hanna', u'Martin', u'Lisa', u'Philip', u'Anna', u'Agnes', u'SJ', u'Med', u'Donna', u'Dagens', u'Tre', u'Kollegan', u'Nicholas', u'Anna', u'Saul', u'Region', u'Maia', u'KHL-laget', u'Andreas', u'Mattias', u'Mats', u'Magnus', u'Kjell', u'Sjur', u'AHL-matchen', u'Simon', u'Mikael', u'Viktor', u'Robin', u'Carl', u'I', u'Tre', u'Vinner', u'Martin', u'Johan', u'Vita', u'Hyllie', u'Toni', u'Svenska', u'Dansken', u'Daniel', u'Patrik', u'SHL-laget', u'Fredrik', u'I', u'Joanna', u'Caroline', u'Hos', u'Bengt', u'Josiah', u'William', u'Jessica', u'Johnny', u'James', u'Jawish', u'Silicon', u'Lektionsledaren', u'Chris', u'I', u'Enligt', u'Per', u'Claire', u'Southern', u'George', u'Maken', u'I', u'Linnea', u'Som', u'Efter', u'Sonen', u'Anders', u'DN', u'Tomas', u'Beatrice', u'Fredrik', u'Nicola', u'Men', u'Kao', u'Canary', u'Lotta', u'Blenheim', u'Historiska', u'Caroline', u'Anna', u'Elizabeth', u'Max', u'Paula', u'Carl', u'Mikaela', u'Maria', u'Emma', u'Gabriel', u'Tony', u'Agatha', u'Martin', u'Jessica', u'Gillian', u'Manne', u'Sofie', u'Kristina', u'Dorothy', u'HammarbyC', u'Nanne', u'Johan', u'Viktor', u'Andreas', u'Simon', u'Mattias', u'Markus', u'CSKA', u'Tre', u'Filip', u'Rikard', u'Martin', u'Stanley', u'Johan', u'O2', u'Olle', u'Rolf', u'Scarlet', u'James', u'Chris', u'J', u'Tim', u'Black', u'Iron', u'Tony', u'Captain', u'Sofie', u'Dallas', u'Travis', u'Neko', u'The', u'John', u'Bob', u'Enligt', u'Russell', u'Ruben', u'Thomas', u'Hani', u'Yasmin', u'Mohamed', u'Malin', u'Daniel', u'Nordisk', u'Roland', u'Christina', u'Ett', u'Att', u'Los', u'American', u'Bland', u'Fannie', u'Grev', u'Trattoria', u'Restaurang', u'Capri-grundaren', u'I', u'Pontus', u'Birgitta', u'Dagens', u'Olof', u'Lennart', u'Gustav', u'Enligt', u'Dagens', u'Calgary', u'CBC', u'Familjen', u'Star', u'Mark', u'GW', u'Gubb', u'Thomas', u'Fallet', u'Hannes', u'I', u'Birgitta', u'Dan', u'Sture', u'Att', u'Seppo', u'C', u'Andreas', u'Roar', u'Nils-Eric', u'Henrik', u'Per', u'Nabil', u'Patrik', u'John', u'Fredrik', u'Sauli', u'Victor', u'Buckingham', u'St', u'David', u'Prins', u'Dalkarlen', u'Jens', u'Fabian', u'Mats', u'Eric', u'Jesper', u'Aleksandr', u'Joel', u'Henrik', u'Washington', u'Carl', u'Stanley', u'New', u'Nicklas', u'SVT', u'Per', u'FF', u'Anja', u'Widding', u'MFF', u'Ramona', u'LDB', u'I', u'Therese', u'Ali', u'Sportchefen', u'Men', u'Percy', u'Att', u'Erling', u'Kent', u'Sedan', u'Nya', u'FC', u'Israel', u'Christine', u'Michael', u'David', u'Juliette', u'Sidi', u'Bernhard', u'Akram', u'Marcus', u'Enligt', u'Kuala', u'Malaysias', u'Felipe', u'Rolet', u'Honoro', u'Alf', u'Mouton', u'India', u'Mikkeller', u'Domaine', u'Terrapin', u'Gripsholms', u'Other', u'Willamette', u'Cerro', u'Mary', u'Ballast', u'Alexandra', u'David', u'Klara', u'Lotta', u'Albin', u'I', u'Maja', u'Daniel', u'Marika', u'Fredrik', u'Jakob', u'Thomas', u'Peter', u'Mattias', u'Emil', u'Glenn', u'Henrik', u'Gustav', u'Lasse', u'Tom', u'Sebastian', u'IFK', u'Nick', u'Stefan', u'Mattias', u'Mats', u'Lennart', u'Vibeke', u'Enligt', u'Beteendevetaren', u'Inom', u'Verksamhetsledaren', u'Freddie', u'New', u'Mae', u'Marilyn', u'Richard', u'Daniel', u'Lina', u'Tyrannosaurus', u'Enligt', u'Hos', u'Diego', u'Yahya', u'Olof', u'I', u'Asta', u'Lukas', u'Erik', u'Bruno', u'Harry', u'Fredrik', u'Kristina', u'DN', u'Av', u'I', u'Efter', u'Arne', u'Sandra', u'DN', u'Franz', u'Sara', u'Maciej', u'Erik', u'Anton', u'Juan', u'Staffan', u'Yvonne', u'Gonzalez', u'Lustau', u'D', u'Biurko', u'Braida', u'Alba', u'M', u'Georg', u'Sanna', u'Ekologiska', u'Gripsholms', u'Barbadillo', u'Herr', u'Sherry', u'Domaene', u'E', u'Crozes', u'Kikunae', u'Malaysias', u'Jenson', u'Fernando', u'Kuala', u'Vassast', u'Annie', u'Einar', u'Stefan', u'Albert', u'Carl', u'Martin', u'Fredrik', u'DN', u'Ballet', u'Natalie', u'I', u'Lumina', u'Black', u'New', u'Mary', u'Charlize', u'Jefferson', u'Bar', u'Birger', u'Fela', u'Swedish', u'Patrik', u'Enligt', u'Kristina', u'Le', u'Emma', u'Ramona', u'Spaniens', u'Lewis', u'Danica', u'Susie', u'Kinas', u'Bernie', u'DN', u'Tomas', u'Centerpartiets', u'I', u'Beatrice', u'Enligt', u'Fredrik', u'Lars', u'Lilian', u'Christian', u'Rainer', u'Olof', u'I', u'Vad', u'Gunilla', u'Johan', u'Jessica', u'Partisekreteraren', u'Oskar', u'Gustav', u'Mattias', u'Jessica', u'Richard', u'William', u'Gustaf', u'Tore', u'Andreas', u'Oscar', u'Tommy', u'Percy', u'Sjur', u'Kjell', u'Jessica', u'Justin', u'Sofia', u'Bon', u'Joni', u'Kate', u'First', u'Husets', u'Italienska', u'Peter', u'Marcus', u'Lewis', u'Malaysias', u'Kimi', u'Nico', u'Sebastian', u'Ludvig', u'SHL-laget', u'Taylor', u'Anders', u'Niclas', u'Jonas', u'National', u'Nerikes', u'Abu', u'Valentin', u'Ann-Kristin', u'Orson', u'Teddy', u'Los', u'New', u'John', u'The', u'Columbia', u'Alan', u'Billie', u'Artie', u'Louis', u'Mezz', u'Benny', u'Jelly', u'Att', u'Miles', u'Kurt', u'Tallulah', u'Charles', u'Lester', u'Down', u'Bessie', u'Ava', u'Kristina', u'Marcus', u'Nigella', u'Den', u'Niklas', u'Jamie', u'Clarion', u'Per', u'American', u'Gordon', u'Tina', u'Scandic', u'Familjen', u'Rasmus', u'Carina', u'Sandra', u'Jumpa', u'I', u'Ilias', u'Oskar', u'Nick', u'Rob', u'Kirill', u'Daniel', u'Erik', u'Martin']\n",
    "\n",
    "print calc_perc_women(snapshot)"
   ]
  },
  {
   "cell_type": "code",
   "execution_count": null,
   "metadata": {
    "collapsed": true
   },
   "outputs": [],
   "source": [
    "# 3 maj 0.269578313253\n",
    "# 4 maj120"
   ]
  }
 ],
 "metadata": {
  "kernelspec": {
   "display_name": "Python 2",
   "language": "python",
   "name": "python2"
  },
  "language_info": {
   "codemirror_mode": {
    "name": "ipython",
    "version": 2
   },
   "file_extension": ".py",
   "mimetype": "text/x-python",
   "name": "python",
   "nbconvert_exporter": "python",
   "pygments_lexer": "ipython2",
   "version": "2.7.9"
  }
 },
 "nbformat": 4,
 "nbformat_minor": 0
}
